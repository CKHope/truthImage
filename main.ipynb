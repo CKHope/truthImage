{
 "cells": [
  {
   "cell_type": "code",
   "execution_count": 1,
   "metadata": {},
   "outputs": [
    {
     "name": "stdout",
     "output_type": "stream",
     "text": [
      "Markdown file 'h/120723/v/x/s/k/h/b/hF#.md' has been generated.\n",
      "Markdown file 'h/120723/j/n/v/y/p/v/hG#.md' has been generated.\n",
      "Markdown file 'h/120723/k/w/d/p/t/s/hB#.md' has been generated.\n",
      "Markdown file 'h/120723/t/i/q/g/v/n/ha#.md' has been generated.\n",
      "Markdown file 'h/120723/j/c/u/j/i/z/hC#.md' has been generated.\n",
      "Markdown file 'h/120723/b/i/j/s/g/h/he#.md' has been generated.\n",
      "Markdown file 'h/120723/s/p/n/q/b/x/hi#.md' has been generated.\n",
      "Markdown file 'h/120723/e/p/w/h/a/d/hr#.md' has been generated.\n",
      "Markdown file 'h/120723/t/u/h/y/v/b/hp#.md' has been generated.\n",
      "Markdown file 'h/120723/m/k/u/g/m/i/hM#.md' has been generated.\n",
      "Markdown file 'h/120723/x/f/e/p/r/j/ht#.md' has been generated.\n",
      "Markdown file 'h/120723/k/f/n/b/z/a/hy#.md' has been generated.\n",
      "Markdown file 'h/120723/c/b/d/v/x/b/hC#.md' has been generated.\n",
      "Markdown file 'h/120723/y/f/v/g/f/b/hj#.md' has been generated.\n",
      "Markdown file 'h/120723/b/p/a/w/g/a/hC#.md' has been generated.\n",
      "Markdown file 'h/120723/l/f/g/t/j/z/hw#.md' has been generated.\n",
      "Markdown file 'h/120723/w/r/d/c/f/k/hT#.md' has been generated.\n",
      "Markdown file 'h/120723/j/z/j/c/q/g/hU#.md' has been generated.\n",
      "Markdown file 'h/120723/g/s/z/y/y/o/hn#.md' has been generated.\n",
      "Markdown file 'h/120723/i/p/r/d/x/r/hd#.md' has been generated.\n"
     ]
    }
   ],
   "source": [
    "import random\n",
    "import string\n",
    "from datetime import datetime\n",
    "from random import sample, choice\n",
    "import os\n",
    "from config import tLinks\n",
    "\n",
    "def generate_file_path(truthType: str, levels: int = 3, fileNameLen: int = 15, tag=\"#\"):\n",
    "    today = str(datetime.now().strftime(\"%d%m%y\"))\n",
    "    folders = [choice(string.ascii_lowercase) for _ in range(levels)]\n",
    "    # folder_path = './' + '/'.join(folders) + '/'\n",
    "    folder_path = \"/\".join(folders) + \"/\"\n",
    "\n",
    "    letters = string.ascii_letters\n",
    "    fileName = \"\".join(choice(letters) for _ in range(fileNameLen))\n",
    "\n",
    "    file_path = f\"{truthType}/{today}/{folder_path}h{fileName}{tag}1.md\"\n",
    "    return file_path\n",
    "\n",
    "\n",
    "def generate_markdown_file(\n",
    "    truthType: str = \"h\", levels: int = 3, fileNameLen: int = 2, tag: str = \"\"\n",
    "):\n",
    "    # Generate a random filename\n",
    "    filePath = generate_file_path(\n",
    "        truthType=truthType, levels=levels, fileNameLen=fileNameLen, tag=tag\n",
    "    )\n",
    "    directory = os.path.dirname(filePath)\n",
    "    os.makedirs(directory, exist_ok=True)\n",
    "    # Markdown content\n",
    "    middlePath = \"../\" * levels\n",
    "    tLink=random.choice(tLinks)\n",
    "    markdown_content = f\"\"\"\\\n",
    "<div style=\"text-align: center;\">\n",
    "    <img src=\"./../../{middlePath}im/1.jpg\" alt=\"Image 1\" />\n",
    "</div>\n",
    "[网站链接 3 - 请点击此处]({tLink}) \n",
    "<div style=\"text-align: center;\">\n",
    "    <img src=\"./../../{middlePath}im/2.jpg\" alt=\"Image 2\" />\n",
    "</div>\n",
    "[网站链接 3 - 请点击此处]({tLink}) \n",
    "\"\"\"\n",
    "\n",
    "    # Save the Markdown content to a file\n",
    "    with open(filePath, \"w\") as file:\n",
    "        file.write(markdown_content)\n",
    "\n",
    "    print(f\"Markdown file '{filePath}' has been generated.\")\n",
    "    return markdown_content\n",
    "\n",
    "\n",
    "# Example usage\n",
    "RUN_TIMES=20\n",
    "for i in range(RUN_TIMES):\n",
    "    generate_markdown_file(truthType=\"h\", levels=6, fileNameLen=1, tag=\"#\")\n"
   ]
  }
 ],
 "metadata": {
  "kernelspec": {
   "display_name": "Python 3",
   "language": "python",
   "name": "python3"
  },
  "language_info": {
   "codemirror_mode": {
    "name": "ipython",
    "version": 3
   },
   "file_extension": ".py",
   "mimetype": "text/x-python",
   "name": "python",
   "nbconvert_exporter": "python",
   "pygments_lexer": "ipython3",
   "version": "3.11.0"
  },
  "orig_nbformat": 4
 },
 "nbformat": 4,
 "nbformat_minor": 2
}
